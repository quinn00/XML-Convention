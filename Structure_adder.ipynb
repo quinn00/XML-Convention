{
  "nbformat": 4,
  "nbformat_minor": 0,
  "metadata": {
    "colab": {
      "name": "Structure adder.ipynb",
      "provenance": [],
      "authorship_tag": "ABX9TyNMqPC+RbwsMOL/K96F3vAZ",
      "include_colab_link": true
    },
    "kernelspec": {
      "name": "python3",
      "display_name": "Python 3"
    },
    "language_info": {
      "name": "python"
    }
  },
  "cells": [
    {
      "cell_type": "markdown",
      "metadata": {
        "id": "view-in-github",
        "colab_type": "text"
      },
      "source": [
        "<a href=\"https://colab.research.google.com/github/quinn00/XML-Convention/blob/main/Structure_adder.ipynb\" target=\"_parent\"><img src=\"https://colab.research.google.com/assets/colab-badge.svg\" alt=\"Open In Colab\"/></a>"
      ]
    },
    {
      "cell_type": "code",
      "metadata": {
        "id": "GsK-x400N7cH"
      },
      "source": [
        "from xml.etree import ElementTree as ET\n",
        "import os"
      ],
      "execution_count": null,
      "outputs": []
    },
    {
      "cell_type": "code",
      "metadata": {
        "colab": {
          "base_uri": "https://localhost:8080/"
        },
        "id": "LgDZgxqKxuoG",
        "outputId": "b31133f3-4b24-4f7b-de81-2505756bb0c6"
      },
      "source": [
        "rmdir /content/.ipynb_checkpoints"
      ],
      "execution_count": null,
      "outputs": [
        {
          "output_type": "stream",
          "text": [
            "rmdir: failed to remove '/content/.ipynb_checkpoints': No such file or directory\n"
          ],
          "name": "stdout"
        }
      ]
    },
    {
      "cell_type": "code",
      "metadata": {
        "id": "afcrKe0TaMwb",
        "colab": {
          "base_uri": "https://localhost:8080/"
        },
        "outputId": "adc17563-7e2e-4efc-8bb0-00bb4cb95f6b"
      },
      "source": [
        "path = \"/content/\"\n",
        "store = []\n",
        "count =-1\n",
        "d = os.listdir(path)\n",
        "del d[-1]\n",
        "del d[0]\n",
        "print(d)\n",
        "for item in d :\n",
        "    count+=1\n",
        "    if count == len(d):\n",
        "        break\n",
        "    else:\n",
        "      tree = ET.parse(d[count])\n",
        "      root = tree.getroot()\n",
        "      for struct in root.findall('./StructureTemplate/Structures/Structure'):\n",
        "        id = struct.get('ID')\n",
        "        store.append(id)\n",
        "      if 'DOSE' in store:\n",
        "        store.clear()\n",
        "      else:\n",
        "        a= root.find('./StructureTemplate/Structures')\n",
        "        structure= ET.SubElement(a,'Structure')\n",
        "        structure.set('ID','DOSE')\n",
        "        structure.set('Name','')\n",
        "        identification = ET.SubElement(structure, 'Identification')\n",
        "        volumeid = ET.SubElement(identification, 'VolumeID')\n",
        "        volumecode = ET.SubElement(identification, 'VolumeCode')\n",
        "        volumetype = ET.SubElement(identification, 'VolumeType')\n",
        "        volumetype.text = 'Organ'\n",
        "        volumecodetable = ET.SubElement(identification, 'VolumeCodeTable')\n",
        "        structurecode = ET.SubElement(identification, 'StructureCode')\n",
        "        structurecode.set('Code','NormalTissue')\n",
        "        structurecode.set('CodeScheme', 'vx')\n",
        "        structurecode.set('CodeSchemeVersion', '1')\n",
        "        typeindex= ET.SubElement(structure,'TypeIndex')\n",
        "        typeindex.text = '2'\n",
        "        colorandstyle = ET.SubElement(structure, 'ColorAndStyle')\n",
        "        colorandstyle.text = 'Transluce - Yell'\n",
        "        searchCTlow = ET.SubElement(structure, 'SearchCTLow')\n",
        "        searchCTlow.text = '1000'\n",
        "        searchCThigh = ET.SubElement(structure, 'SearchCTHigh')\n",
        "        searchCThigh.text = '1000'\n",
        "        DVHlinestyle = ET.SubElement(structure, 'DVHLineStyle')\n",
        "        DVHlinestyle.text = '0'\n",
        "        DVHlinecolor = ET.SubElement(structure, 'DVHLineColor')\n",
        "        DVHlinecolor.text  = '-16777216'\n",
        "        DVHlinewidth = ET.SubElement(structure, 'DVHLineWidth')\n",
        "        DVHlinewidth.text = '1'\n",
        "        EUDalpha = ET.SubElement(structure, 'EUDAlpha')\n",
        "        EUDalpha.set('xsi:nil','true')\n",
        "        TCPalpha = ET.SubElement(structure , 'TCPAlpha')\n",
        "        TCPalpha.set('xsi:nil','true')\n",
        "        TCPbeta = ET.SubElement(structure, 'TCPBeta')\n",
        "        TCPbeta.set('xsi:nil','true')\n",
        "        TCPgamma = ET.SubElement(structure,'TCPGamma')\n",
        "        TCPgamma.set('xsi:nil','true')\n",
        "\n",
        "        tree.write('updated_'+d[count])\n",
        "\n"
      ],
      "execution_count": null,
      "outputs": [
        {
          "output_type": "stream",
          "text": [
            "['Breast_ Right.xml', 'Brain_255.xml', 'Brain_4015.xml']\n",
            "['BODY', 'CTV', 'PTV', 'Heart', 'Lung_L', 'REFBase', 'Lung_R', 'Scar', 'Wire', 'Seroma', 'PTVn_IMN', 'Lungs', 'IMN', 'PTV_Boost', 'DEV_Boost', 'AxillaryClips', 'Cricoid', 'Carina', 'Cord', 'PTVn_SCL', 'CTVn_SCL', 'CTV_Boost', 'CTVn_Ax', 'PTVn_Ax', 'CTVn_IMN', 'SClav_ROI', 'ContralatBreast', 'BodyOnly', 'PTV_Eval', 'DOSE']\n",
            "[]\n"
          ],
          "name": "stdout"
        }
      ]
    }
  ]
}