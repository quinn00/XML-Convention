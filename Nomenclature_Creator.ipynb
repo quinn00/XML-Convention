{
  "nbformat": 4,
  "nbformat_minor": 0,
  "metadata": {
    "colab": {
      "name": "Nomenclature Creator",
      "provenance": [],
      "collapsed_sections": [
        "H84-511-keaB",
        "oL2D6E-okZkj",
        "7YtWp48er225",
        "YdYc7SjCr_Bo",
        "2UkyvarurvXt",
        "TST_t3ZZsPMw",
        "RBSFeL9Beg0a",
        "CMqPm-ENsV63",
        "lfyphJmUG8xi",
        "QBjZ91QytGDB",
        "UWb85QZ20WKX"
      ],
      "include_colab_link": true
    },
    "kernelspec": {
      "name": "python3",
      "display_name": "Python 3"
    },
    "language_info": {
      "name": "python"
    }
  },
  "cells": [
    {
      "cell_type": "markdown",
      "metadata": {
        "id": "view-in-github",
        "colab_type": "text"
      },
      "source": [
        "<a href=\"https://colab.research.google.com/github/quinn00/XML-Convention/blob/main/Nomenclature_Creator.ipynb\" target=\"_parent\"><img src=\"https://colab.research.google.com/assets/colab-badge.svg\" alt=\"Open In Colab\"/></a>"
      ]
    },
    {
      "cell_type": "markdown",
      "metadata": {
        "id": "AGqpGx5rhtPQ"
      },
      "source": [
        "# **Instructions**"
      ]
    },
    {
      "cell_type": "markdown",
      "metadata": {
        "id": "oUizMhajhx71"
      },
      "source": [
        "This code allows you to make csv file of XML attribute values in order to create a naming convention. The csv can then be run into the Strucutre/Protocol Nomenclautre program to update your XML files. \n",
        "\n",
        "For best results one should take all the XML templates interested in and combine them to one file in order to gather all references at once, otherwize multiple csv's will have to be combined. \n",
        "\n",
        "Start by uploading the dictionaries and XML file \n",
        "-click the files tab on the right side of the window\n",
        "-click the 'Upload to current session' icon \n",
        "-browse and upload files \n",
        "** when calling a file must begin with '/content/'\n",
        "\n",
        "Run the modules block \n",
        "Call your file and run block [2]\n",
        "\n",
        "Choose if you are changing a structure set or a protocol template and run the remaning two blocks accordingly \n",
        "\n",
        "in the last step of either template type remember to change the name of the output file to desired. \n",
        "\n",
        "refresh the files tab and your csv will be waiting \n"
      ]
    },
    {
      "cell_type": "markdown",
      "metadata": {
        "id": "7YtWp48er225"
      },
      "source": [
        "## Modules"
      ]
    },
    {
      "cell_type": "code",
      "metadata": {
        "id": "JXUUAxYPBzjc"
      },
      "source": [
        "import os \n",
        "from xml.etree import ElementTree as ET\n",
        "import numpy as np\n",
        "import pandas as pd \n",
        "import csv"
      ],
      "execution_count": null,
      "outputs": []
    },
    {
      "cell_type": "code",
      "metadata": {
        "id": "PFBRCENOfdHl"
      },
      "source": [
        "tree= ET.parse('/content/SI_Abdo.xml') #call your XML file \n",
        "root= tree.getroot()"
      ],
      "execution_count": null,
      "outputs": []
    },
    {
      "cell_type": "markdown",
      "metadata": {
        "id": "SwtJQWFegJHs"
      },
      "source": [
        "#Structure Templates"
      ]
    },
    {
      "cell_type": "markdown",
      "metadata": {
        "id": "YdYc7SjCr_Bo"
      },
      "source": [
        "##XML to array"
      ]
    },
    {
      "cell_type": "code",
      "metadata": {
        "id": "C_B-EuEKB-VO"
      },
      "source": [
        "\n",
        "structure_array= []\n",
        "for c in root.iter('Structure'):\n",
        "  id = c.attrib['ID']\n",
        "  color=c.find('ColorAndStyle')\n",
        "  try:\n",
        "    volume= c.find('Identification').find('VolumeType')\n",
        "    scheme=str(c.find('Identification').find('StructureCode').get('CodeScheme'))\n",
        "    code = str(c.find('Identification').find('StructureCode').get('Code'))\n",
        "    version= str(c.find('Identification').find('StructureCode').get('CodeSchemeVersion'))\n",
        "  except AttributeError:\n",
        "    continue\n",
        "  structure_array.append([id, color.text, volume.text,code, scheme,version])\n",
        "\n",
        "structure_array = sorted(structure_array, key=lambda x: x[1]) #xml file is searched for tags which are organized within structures as an array\n",
        "\n",
        "sorted_array = []\n",
        "for i in structure_array:\n",
        "    if i not in sorted_array:\n",
        "        sorted_array.append(i)\n",
        "sorted_array=sorted(sorted_array)\n",
        "\n",
        "#array is sorted alphabetically based on the id name (first row) and duplicates are removed \n"
      ],
      "execution_count": null,
      "outputs": []
    },
    {
      "cell_type": "markdown",
      "metadata": {
        "id": "TST_t3ZZsPMw"
      },
      "source": [
        "## Array to csv"
      ]
    },
    {
      "cell_type": "code",
      "metadata": {
        "id": "a9wcBMLKCFE0"
      },
      "source": [
        "nr = np.array(sorted_array)\n",
        "field_names= [ 'Id', 'Color', 'Volume','Code','Scheme','Version' ]\n",
        "df = pd.DataFrame(nr, columns=field_names)\n",
        "\n",
        "df.to_csv('edit_convention.csv', index=False) #create a csv that is easy to edit to change convention"
      ],
      "execution_count": null,
      "outputs": []
    },
    {
      "cell_type": "markdown",
      "metadata": {
        "id": "ok2Nd0qVgOST"
      },
      "source": [
        "#Protocol Templates"
      ]
    },
    {
      "cell_type": "markdown",
      "metadata": {
        "id": "BsFq5xPffx_8"
      },
      "source": [
        "##XML to array"
      ]
    },
    {
      "cell_type": "code",
      "metadata": {
        "id": "e8rftWnbez31"
      },
      "source": [
        "\n",
        "item_lst=[]\n",
        "for j in root.findall(\"./Phases/Phase/Prescription/Item\"):\n",
        "  item_id=j.attrib['ID']\n",
        " \n",
        "  item_lst.append(item_id)\n",
        "\n",
        "for k in root.findall(\"./Phases/Phase/Prescription/MeasureItem\"):\n",
        "  measure_id=k.attrib['ID']\n",
        "\n",
        "  item_lst.append(measure_id)\n",
        "\n",
        "for l in root.findall(\"./Phases/Phase/ObjectiveTemplate/ObjectivesAllStructures/ObjectivesOneStructure\"):\n",
        "  objective_id= l.attrib['ID']\n",
        "\n",
        "  item_lst.append(objective_id)\n",
        "\n",
        "joined_lst= []\n",
        "\n",
        "\n",
        "for item in item_lst:\n",
        "  if item not in joined_lst:\n",
        "    joined_lst.append(item)\n",
        "\n",
        "joined_lst=sorted(joined_lst)"
      ],
      "execution_count": null,
      "outputs": []
    },
    {
      "cell_type": "markdown",
      "metadata": {
        "id": "LZ4MsTC1f4v2"
      },
      "source": [
        "##Array to csv"
      ]
    },
    {
      "cell_type": "code",
      "metadata": {
        "id": "9_9jdnpJe9u6"
      },
      "source": [
        "nr = np.array(joined_lst)\n",
        "field_names= [ 'Id' ]\n",
        "df = pd.DataFrame(nr, columns=field_names)\n",
        "\n",
        "df.to_csv('protocol_structures.csv', index=False)"
      ],
      "execution_count": null,
      "outputs": []
    }
  ]
}