{
  "nbformat": 4,
  "nbformat_minor": 0,
  "metadata": {
    "colab": {
      "name": "Copy of Structure/Protocol Nomenclature",
      "provenance": [],
      "authorship_tag": "ABX9TyMoYiQzYZW6gDHsgN63m4Jc",
      "include_colab_link": true
    },
    "kernelspec": {
      "name": "python3",
      "display_name": "Python 3"
    },
    "language_info": {
      "name": "python"
    }
  },
  "cells": [
    {
      "cell_type": "markdown",
      "metadata": {
        "id": "view-in-github",
        "colab_type": "text"
      },
      "source": [
        "<a href=\"https://colab.research.google.com/github/quinn00/XML-Convention/blob/main/Structure_Protocol_Nomenclature.ipynb\" target=\"_parent\"><img src=\"https://colab.research.google.com/assets/colab-badge.svg\" alt=\"Open In Colab\"/></a>"
      ]
    },
    {
      "cell_type": "markdown",
      "metadata": {
        "id": "OMcXHUaIagr1"
      },
      "source": [
        "#Information "
      ]
    },
    {
      "cell_type": "markdown",
      "metadata": {
        "id": "V6sqZpFcanHT"
      },
      "source": [
        "## Overview "
      ]
    },
    {
      "cell_type": "markdown",
      "metadata": {
        "id": "FLVuIRU5asMC"
      },
      "source": [
        "This code is to update the nomenclature of strucutre ID's and associated attributes included in our clinically used XML files. Both structure and protocol templates were updated. \n",
        "\n",
        "The ID's and attributes are referenced in a structure set, and there are three other locations just the \n",
        "\n",
        "The structure templates contain the structure set, each structure having 5 important assocated attributes that defualt setting when uploaded to a patient. 'ColorandStyle', 'VolumeType', 'Code', 'CodeScheme', and 'CodeSchemeVersion'.\n",
        "\n",
        "The protocol templates include the same structure set with associated attributes, but also has 3 other locations where the strucutre Id is referenced.\n",
        "'Item', 'MeasureItem', 'ObjectivesOneStructure' \n",
        "\n",
        "Section 1 : Structure Set updates the structure set within either template. A dictionary is created from the 'master_convention' csv file. It is actually a dictionary of dictionaries that when the Id element is found the 5 attributes associated with id in the dictionary is called and changes the template\n",
        "\n",
        "Section 2 : Protocol Id Reference updates the structure Id located in the 3 different tags. A dictionary is created from the 'protocol_strucutres' csv file, which is based of the 'master_convention' csv. The dictionary refernces the current incorrest Id string and updates it to the desired structure name. \n",
        "\n"
      ]
    },
    {
      "cell_type": "markdown",
      "metadata": {
        "id": "NF5_YiccT-Y3"
      },
      "source": [
        "## Instructions "
      ]
    },
    {
      "cell_type": "markdown",
      "metadata": {
        "id": "zuNY4uVeVI26"
      },
      "source": [
        "I will refer to the file being updated as the target file \n",
        "\n",
        "First, our files have to be uploaded to the runtime. The runtime stores files to be able to be refernced within the code. Runtime can be found on the left hand side in the files tab \n",
        "\n",
        "Click the folded-corner paper with an up arrow icon or the 'Upload to session storage' button, this will open your library where you can find your target file and open it in the runtime. You will also need to upload the csv dictionaries. Find both 'master_convention' and 'protocol_strucutres' in \\\\srvnetapp02.vch.ca\\bcca\\docs\\CCSI\\XML modifier. \n",
        "\n",
        "With both dictionaries and your target files uploaded we are ready to run code\n",
        "\n",
        "1. First, run the pagkages code as it imports all needed packages\n",
        "\n",
        "2. Next, pick whether you want to update the structure set elements or the 3 protocol elements. Run 'Strucutre Dictionary' for structure set and 'Protocol Dictionary' for protocol elements. \n",
        "\n",
        "3. After running the dictionary cell, delete the file from runtime as the data is now uploaded to the script and we are going to loop through all our files and the csv file will cause an error. \n",
        "\n",
        "4. Now section 1 or section 2 are ready to run. Change the name of the output file in the tree.write function. It already uses the name of the original file to name the new one, if you keep the same name it will overwrite the original file in the runtime. Can also be usful to use +'new' or +'updated' to differenciate old files from new\n",
        "\n",
        "5. Before running the cell, run the Directory Removal cell. Everytime the jupyter notebook is rewritten to the Directory .ipynb_checkpoints. it must be removed in order to avoid the same error we encountered with the dictionary.\n",
        "\n",
        "6. Run the desired block, Re-fresh the runtime by clicking the 'Refresh' icon and your updated XML files will be waiting for you. \n",
        "\n",
        "\n"
      ]
    },
    {
      "cell_type": "markdown",
      "metadata": {
        "id": "-m_dWGuvX2B4"
      },
      "source": [
        "## Trouble Shoot "
      ]
    },
    {
      "cell_type": "markdown",
      "metadata": {
        "id": "QBB5nXD5X7Jl"
      },
      "source": [
        "The most reoccuring issue that can happen is due to the juniper notebook framework. If for no reason code won't output but was before or the files are being referenced properly it is because of the runtime. \n",
        "\n",
        "The runtime disconnects and sometimes will not prompt you to reconnect. Simply refresh the page or delete the files from the runtime and upload them again \n",
        "\n",
        "Other than that issues should not occour as this main file is to be used by everyone and the source should not be changed "
      ]
    },
    {
      "cell_type": "markdown",
      "metadata": {
        "id": "Lwc83vH3dIvf"
      },
      "source": [
        "#Common Data"
      ]
    },
    {
      "cell_type": "markdown",
      "metadata": {
        "id": "3rwVHWxOM3pO"
      },
      "source": [
        "## Packages\n"
      ]
    },
    {
      "cell_type": "code",
      "metadata": {
        "id": "GQpVkIeCdLy3"
      },
      "source": [
        "import os \n",
        "from xml.etree import ElementTree as ET\n",
        "import numpy as np\n",
        "import pandas as pd \n",
        "import csv"
      ],
      "execution_count": null,
      "outputs": []
    },
    {
      "cell_type": "markdown",
      "metadata": {
        "id": "62O_ql9XM8o-"
      },
      "source": [
        "##Structure Dictionary "
      ]
    },
    {
      "cell_type": "code",
      "metadata": {
        "id": "tSUTu8VJd62G"
      },
      "source": [
        "#this is for the structure set convention. open 'master_convention' to initialize the nomenclauture dictionary \n",
        "with open('/content/master_convention.csv', newline='') as csvfile:\n",
        "    data = list(csv.reader(csvfile))\n",
        "\n",
        "field_names= [ 'Id', 'Color', 'Volume','Code','Scheme','Version' ]\n",
        "fc= pd.DataFrame(data, columns=field_names)\n",
        "\n",
        "dictionary = {} \n",
        "for k, id in enumerate(fc['Id']):\n",
        "    dictionary[id]= {}\n",
        "    dictionary[id]['Color'] = fc['Color'][k]\n",
        "    dictionary[id]['Volume'] = fc['Volume'][k]\n",
        "    dictionary[id]['Code'] = fc['Code'][k]\n",
        "    dictionary[id]['Scheme']=fc['Scheme'][k]\n",
        "    dictionary[id]['Version']=fc['Version'][k]"
      ],
      "execution_count": null,
      "outputs": []
    },
    {
      "cell_type": "markdown",
      "metadata": {
        "id": "hwepHSOrNBH1"
      },
      "source": [
        "##Protocol Dictionary "
      ]
    },
    {
      "cell_type": "code",
      "metadata": {
        "id": "NyB93CXgeGoz"
      },
      "source": [
        "#this is for protocols. open 'protocol_structures' to initialize the nomenclature dictionary \n",
        "with open('/content/protocol_structures.csv', mode='r') as inp:\n",
        "    reader = csv.reader(inp)\n",
        "    ref_dict = {rows[0]:rows[1] for rows in reader}"
      ],
      "execution_count": null,
      "outputs": []
    },
    {
      "cell_type": "markdown",
      "metadata": {
        "id": "I9d63QpiTOvR"
      },
      "source": [
        "#Directory Removal"
      ]
    },
    {
      "cell_type": "code",
      "metadata": {
        "id": "2X1qFiyI4IwC"
      },
      "source": [
        "rmdir /content/.ipynb_checkpoints"
      ],
      "execution_count": null,
      "outputs": []
    },
    {
      "cell_type": "markdown",
      "metadata": {
        "id": "gXYxCTq7dAw1"
      },
      "source": [
        "# Section 1 : Structure Set "
      ]
    },
    {
      "cell_type": "code",
      "metadata": {
        "id": "PAavZivudF28"
      },
      "source": [
        "path = \"/content/\"\n",
        "count =-1\n",
        "d = os.listdir(path) #makes a list of the files in runtime \n",
        "del d[0] #deletes defualt stored directories \n",
        "del d[-1]\n",
        "for item in d :\n",
        "    count+=1\n",
        "    if count == len(d):\n",
        "        break\n",
        "    else:\n",
        "      tree = ET.parse(d[count])\n",
        "      root = tree.getroot()\n",
        "      for j in root.iter(\"Structure\"):\n",
        "        name= j.get('ID')\n",
        "        if name.islower() : #capatalizes the first letter of each word if the word is not already capaltalized \n",
        "          j.attrib['ID'] = id.title()\n",
        "        if name == ('Body Only') or name == ('BODY ONLY'):\n",
        "          j.set('ID','BodyOnly')\n",
        "        elif name == ('Body'):\n",
        "          j.set('ID','BODY')\n",
        "        elif name == ('Opti_PTV_Inter'):\n",
        "          j.set('ID','OPTI_PTV_Inter')\n",
        "        elif name== ('OPTI_PTV_Interm'):\n",
        "          j.set('ID','OPTI_PTV_Inter')\n",
        "        elif name == ('Opti_PTV_Low'):\n",
        "          j.set('ID','OPTI_PTV_Low')\n",
        "        elif name == ('GTV LN'):\n",
        "          j.set('ID','GTVn')\n",
        "        elif name == ('Cord PRV4mm'):\n",
        "          j.set('ID','Cord PRV 4mm')\n",
        "        elif name== ('GTV Primary'):\n",
        "          j.set('ID','GTVp')\n",
        "        if name ==('axillary clips'):\n",
        "          j.set(\"ID\",\"Axillary_Clips\")\n",
        "        if name == ('cricoid'):\n",
        "          j.set('ID','Cricoid')\n",
        "        if name == ('DEV boost'):\n",
        "          j.set('ID','DEV Boost')\n",
        "        if name == ('PTV boost'):\n",
        "          j.set('ID','PTV Boost')\n",
        "        if name == ('CTV boost'):\n",
        "          j.set('ID','CTV Boost')\n",
        "\n",
        "\n",
        "      for k in root.iter('Structure'):\n",
        "        id= k.get('ID')\n",
        "        k.attrib['ID']=id.replace(' ','_') \n",
        "      for a in root.iter('Structure'):\n",
        "        try:\n",
        "          a.find('Identification').find('StructureCode').attrib['Code']= dictionary[name]['Code']\n",
        "        except (AttributeError,KeyError):\n",
        "          continue\n",
        "        try:\n",
        "          a.find('ColorAndStyle').text = dictionary[name]['Color']\n",
        "        except KeyError: \n",
        "          continue\n",
        "          a.find('Identification').find('VolumeType').text=dictionary[name]['Volume']\n",
        "          a.find('Identification').find('StructureCode').attrib['CodeScheme']= dictionary[name]['Scheme']\n",
        "\n",
        "\n",
        "\n",
        "      tree.write('new'+ item)"
      ],
      "execution_count": null,
      "outputs": []
    },
    {
      "cell_type": "markdown",
      "metadata": {
        "id": "ExV4_gZQf8SP"
      },
      "source": [
        "#Section 2 : Protocol Id references "
      ]
    },
    {
      "cell_type": "code",
      "metadata": {
        "id": "VQtjD6sff-FQ"
      },
      "source": [
        "path = \"/content/\"\n",
        "count =-1\n",
        "d = os.listdir(path)\n",
        "print(d)\n",
        "del d[0]\n",
        "del d[-1]\n",
        "print(d)\n",
        "for item in d :\n",
        "    count+=1\n",
        "    if count == len(d):\n",
        "      break\n",
        "    else:\n",
        "      for q in root.findall(\"./Phases/Phase/Prescription/Item\"):\n",
        "        i_id= q.get('ID')\n",
        "        try:\n",
        "          q.attrib['ID']=ref_dict[i_id]\n",
        "        except (KeyError):\n",
        "          continue\n",
        "\n",
        "      for r in root.findall(\"./Phases/Phase/Prescription/MeasureItem\"):\n",
        "        mi_id= r.get('ID')\n",
        "        try:\n",
        "          r.attrib['ID']= ref_dict[mi_id]\n",
        "        except (KeyError):\n",
        "          continue\n",
        "\n",
        "      for s in root.findall(\"./Phases/Phase/ObjectiveTemplate/ObjectivesAllStructures/ObjectivesOneStructure\"):\n",
        "        os_id= s.get('ID')\n",
        "        try:\n",
        "          s.attrib['ID']=ref_dict[os_id]\n",
        "        except (KeyError):\n",
        "          continue\n",
        "\n",
        "\n",
        "      tree.write('Breast_Right.xml')"
      ],
      "execution_count": null,
      "outputs": []
    }
  ]
}